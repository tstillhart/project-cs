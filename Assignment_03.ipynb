{
 "cells": [
  {
   "cell_type": "markdown",
   "metadata": {
    "id": "TSfQb_3w9CP3",
    "tags": []
   },
   "source": [
    "# Assignment 3: Programming II\n",
    "\n",
    "Please read the tasks description carefully and implement **only** what the tasks wants you to implement. Follow the instructions from the task description. There might be tasks that require you to write things you would do differently **but** you have to stay with the description. The test cases below each input cell is the gold standard. For this assignment, you do not need any error handling, you can assume that all input to your function will be valid.\n",
    "\n",
    "In this or any other assignment, using `print` is encouraged to test your implementation but is is **never** required to use it. If your function has to **return** something, use the `return` statement. A `print` is **not** a `return`.\n",
    "\n",
    "Try to implement the tasks yourself or in a small team. If you blindly copy a solution from the internet or other students, you will not learn anything from it. Understand the solution! This takes practice.\n",
    "\n",
    "_Hint: If the test case succeeds, delete your solution and redo it the next day._\n",
    "\n",
    "Do not modify the _test cells_, by doing so you cheat your solution which is not helpful for your learning process.\n",
    "\n",
    "<p style=\"background:rgba(250, 100, 100, 0.4)\">From this assignment on, it will be required to <strong>self-study</strong> and do research beyond the lecture content.</p>\n",
    "\n",
    "Use your favorite search engine to look up documentation, usage examples, and definitions of the mentioned functions.\n",
    "\n",
    "> **We can only show you the door. You're the one that has to walk through it.**"
   ]
  },
  {
   "cell_type": "markdown",
   "metadata": {
    "id": "7Q0Qeuj69RbV"
   },
   "source": [
    "---\n",
    "## Task 1: Sum\n",
    "\n",
    "Define the function `sum_numbers` that takes **exactly two** integer arguments: `start` and `end`.\n",
    "\n",
    "It should return the **sum** of all integer numbers between `start` (inclusive!) and `end` (exclusive!)\n",
    "\n",
    "The two parameters are **optional** with the following *default values*: `start` must default to `1` and `end` must default to `10`\n",
    "\n",
    "Example:\n",
    "```python\n",
    "result = sum_numbers()\n",
    "print(result)\n",
    ">>> 45\n",
    "```\n",
    "\n",
    "Assume that your function receives only *valid* parameters: the values of the parameters are always positive integers and `start` will always be smaller than `end`.\n",
    "\n",
    "_Hint: You can use the `range()` function._\n",
    "\n",
    "_Hint: You can use the `sum()` function._\n",
    "\n",
    "_Hint: Remember to `return` the result. A `print` is **not** a `return`._"
   ]
  },
  {
   "cell_type": "code",
   "execution_count": 3,
   "metadata": {
    "executionInfo": {
     "elapsed": 343,
     "status": "ok",
     "timestamp": 1632322011360,
     "user": {
      "displayName": "Bernhard Bermeitinger",
      "photoUrl": "https://lh3.googleusercontent.com/a-/AOh14GivXxt0TLtU4UXyER4_cY1H5s03j1oHP80xcb4=s64",
      "userId": "00323182743818884824"
     },
     "user_tz": -120
    },
    "id": "b9kbIA0A9QLT"
   },
   "outputs": [
    {
     "data": {
      "text/plain": [
       "45"
      ]
     },
     "execution_count": 3,
     "metadata": {},
     "output_type": "execute_result"
    }
   ],
   "source": [
    "def sum_numbers(start=1,end=10):\n",
    "    result = 0\n",
    "    for i in range(start,end):\n",
    "        result += i\n",
    "    return result\n",
    "    \n",
    "sum_numbers()\n"
   ]
  },
  {
   "cell_type": "code",
   "execution_count": 2,
   "metadata": {
    "colab": {
     "base_uri": "https://localhost:8080/"
    },
    "executionInfo": {
     "elapsed": 221,
     "status": "ok",
     "timestamp": 1632322048130,
     "user": {
      "displayName": "Bernhard Bermeitinger",
      "photoUrl": "https://lh3.googleusercontent.com/a-/AOh14GivXxt0TLtU4UXyER4_cY1H5s03j1oHP80xcb4=s64",
      "userId": "00323182743818884824"
     },
     "user_tz": -120
    },
    "id": "tWTJDI8F-T4R",
    "outputId": "9b1cd881-c6ae-4fe7-9c78-cd07a6a12ea5"
   },
   "outputs": [
    {
     "name": "stdout",
     "output_type": "stream",
     "text": [
      "\n",
      "\u001b[37;42;2m  Success! Your code works as intended.  \u001b[0m\n",
      "\n"
     ]
    }
   ],
   "source": [
    "# Test Cell. Do not modify\n",
    "from inspect import isfunction, signature\n",
    "from unittest import TestCase\n",
    "test_case = TestCase()\n",
    "\n",
    "# Sanity Check\n",
    "test_case.assertTrue('sum_numbers' in locals(), msg='You must call the function `sum_numbers`.')\n",
    "test_case.assertTrue(isfunction(sum_numbers), msg='You must define the *function* `sum_numbers`.')\n",
    "\n",
    "# Function parameter check\n",
    "test_case.assertEqual(len(signature(sum_numbers).parameters), 2, msg=\"Your function must have exactly 2 parameters.\")\n",
    "test_case.assertEqual(['start', 'end'], list(signature(sum_numbers).parameters), msg=\"The parameters of the function must have the names 'start', 'end'.\")\n",
    "\n",
    "# Are there default parameters?\n",
    "test_case.assertEqual(1, signature(sum_numbers).parameters['start'].default, msg='The start parameter must have the default value 1.')\n",
    "test_case.assertEqual(10, signature(sum_numbers).parameters['end'].default, msg='The start parameter must have the default value 10.')\n",
    "\n",
    "# Value Check\n",
    "test_case.assertEqual(45, sum_numbers(), msg='Wrong result.')\n",
    "test_case.assertEqual(45, sum_numbers(1, 10), msg='Wrong result.')\n",
    "test_case.assertEqual(44, sum_numbers(2, 10), msg='Wrong result.')\n",
    "test_case.assertEqual(4950, sum_numbers(1, 100), msg='Wrong result.')\n",
    "test_case.assertEqual(4308842835, sum_numbers(42, 92832), msg='Wrong result.')\n",
    "test_case.assertEqual(44, sum_numbers(start=2), msg='Wrong result.')\n",
    "test_case.assertEqual(5356, sum_numbers(end=104), msg='Wrong result.')\n",
    "test_case.assertEqual(2555, sum_numbers(start=2, end=72), msg='Wrong result.')\n",
    "\n",
    "\n",
    "print(\"\\n\\033[37;42;2m  Success! Your code works as intended.  \\033[0m\\n\")"
   ]
  },
  {
   "cell_type": "markdown",
   "metadata": {
    "id": "9liLg1iy-hPC"
   },
   "source": [
    "---\n",
    "## Task 2: FizzBuzz\n",
    "\n",
    "Define the function `fizzbuzz` with one required parameter: `limit`.\n",
    "\n",
    "It must return a `list` variable (a variable of type `list`) with `limit` elements (so, if `limit = 10`, the returned list must have exactly `10` entries).\n",
    "You can assume that only *valid* argument values are given (`limit` > 0)\n",
    "\n",
    "The content of the list is as follows:\n",
    "- If the list index is a multiple of `3`, the value at this position must be the string `Fizz`.\n",
    "- If the list index is a multiple of `5`, the value at this position must be the string `Buzz`.\n",
    "- If the list index is a multiple of `3` **and** `5`, the value at this position must be the string `FizzBuzz`.\n",
    "- In all other cases, the value at this position must be the list index itself.\n",
    "\n",
    "Example:\n",
    "```python\n",
    "result = fizzbuzz(6)\n",
    "print(len(result))\n",
    ">>> 6\n",
    "print(result)\n",
    ">>> ['FizzBuzz', 1, 2, 'Fizz', 4, 'Buzz']\n",
    "```\n",
    "\n",
    "_Hint: Be careful with if-elif-else and the order of execution._\n",
    "\n",
    "_Hint: Do **not** give any variable the name 'list'. Doing so will break your kernel/runtime._\n",
    "\n",
    "_Hint: You may want to look for a list method that adds an item to the end of a list._"
   ]
  },
  {
   "cell_type": "code",
   "execution_count": 8,
   "metadata": {
    "executionInfo": {
     "elapsed": 212,
     "status": "ok",
     "timestamp": 1632322199223,
     "user": {
      "displayName": "Bernhard Bermeitinger",
      "photoUrl": "https://lh3.googleusercontent.com/a-/AOh14GivXxt0TLtU4UXyER4_cY1H5s03j1oHP80xcb4=s64",
      "userId": "00323182743818884824"
     },
     "user_tz": -120
    },
    "id": "zUFRQa3z-av6"
   },
   "outputs": [],
   "source": [
    "def fizzbuzz(limit):\n",
    "    result = []\n",
    "    for i in range(limit):\n",
    "        if (i % 3 == 0) and (i % 5 == 0):\n",
    "            val = \"FizzBuzz\"\n",
    "        elif i % 3 == 0:\n",
    "            val = \"Fizz\"\n",
    "        elif i % 5 == 0:\n",
    "            val = \"Buzz\"\n",
    "        else:\n",
    "            val = i\n",
    "            \n",
    "        result.append(val)\n",
    "        \n",
    "    return result\n",
    "    "
   ]
  },
  {
   "cell_type": "code",
   "execution_count": 9,
   "metadata": {
    "colab": {
     "base_uri": "https://localhost:8080/"
    },
    "executionInfo": {
     "elapsed": 232,
     "status": "ok",
     "timestamp": 1632322249121,
     "user": {
      "displayName": "Bernhard Bermeitinger",
      "photoUrl": "https://lh3.googleusercontent.com/a-/AOh14GivXxt0TLtU4UXyER4_cY1H5s03j1oHP80xcb4=s64",
      "userId": "00323182743818884824"
     },
     "user_tz": -120
    },
    "id": "jormUz77-4kM",
    "outputId": "ae1920e8-ec77-44fc-f4a2-112b86c4de55"
   },
   "outputs": [
    {
     "name": "stdout",
     "output_type": "stream",
     "text": [
      "\n",
      "\u001b[37;42;2m  Success! Your code works as intended.  \u001b[0m\n",
      "\n"
     ]
    }
   ],
   "source": [
    "# Test Cell. Do not modify\n",
    "from inspect import isfunction, signature\n",
    "from unittest import TestCase\n",
    "test_case = TestCase()\n",
    "\n",
    "# Sanity Check\n",
    "test_case.assertTrue('fizzbuzz' in locals(), msg='You must call the function `fizzbuzz`.')\n",
    "test_case.assertTrue(isfunction(fizzbuzz), msg='You must define the *function* `fizzbuzz`.')\n",
    "\n",
    "# Function parameter check\n",
    "test_case.assertEqual(len(signature(fizzbuzz).parameters), 1, msg=\"Your function must have exactly 3 parameters.\")\n",
    "test_case.assertEqual(['limit'], list(signature(fizzbuzz).parameters), msg='The parameter of the function must have the name `limit`')\n",
    "\n",
    "# Value Check\n",
    "test_case.assertEqual(['FizzBuzz'], fizzbuzz(1), msg='Wrong result.')\n",
    "test_case.assertEqual(['FizzBuzz', 1], fizzbuzz(2), msg='Wrong result.')\n",
    "test_case.assertEqual(['FizzBuzz', 1, 2], fizzbuzz(3), msg='Wrong result.')\n",
    "test_case.assertEqual(['FizzBuzz', 1, 2, 'Fizz'], fizzbuzz(4), msg='Wrong result.')\n",
    "test_case.assertEqual(['FizzBuzz', 1, 2, 'Fizz', 4], fizzbuzz(5), msg='Wrong result.')\n",
    "test_case.assertEqual(['FizzBuzz', 1, 2, 'Fizz', 4, 'Buzz'], fizzbuzz(6), msg='Wrong result.')\n",
    "test_case.assertEqual(['FizzBuzz', 1, 2, 'Fizz', 4, 'Buzz', 'Fizz'], fizzbuzz(7), msg='Wrong result.')\n",
    "test_case.assertEqual(['FizzBuzz', 1, 2, 'Fizz', 4, 'Buzz', 'Fizz', 7], fizzbuzz(8), msg='Wrong result.')\n",
    "\n",
    "# Run your code with the parameter limit=100\n",
    "_result = fizzbuzz(100)\n",
    "test_case.assertEqual(len(_result), 100, msg='The returned list for limit=100 must have exactly 101 elements.')\n",
    "test_case.assertEqual(_result[0], \"FizzBuzz\", msg=\"The value at 0 should be 'FizzBuzz'. 0 (zero) is divisible by both 3 and 5.\")\n",
    "test_case.assertEqual(_result[3], \"Fizz\", msg=\"The value at 3 should be 'Fizz'.\")\n",
    "test_case.assertEqual(_result[4], 4, msg=\"The value at 4 should be 4.\")\n",
    "test_case.assertEqual(_result[5], \"Buzz\", msg=\"The value at 5 should be 'Buzz'.\")\n",
    "test_case.assertEqual(_result[15], \"FizzBuzz\", msg=\"The value at 15 should be 'FizzBuzz'.\")\n",
    "test_case.assertEqual(_result[90], \"FizzBuzz\", msg=\"The value at 90 should be 'FizzBuzz'.\")\n",
    "test_case.assertEqual(_result[93], \"Fizz\", msg=\"The value at 93 should be 'FizzBuzz'.\")\n",
    "test_case.assertEqual(_result[95], \"Buzz\", msg=\"The value at 95 should be 'Buzz'.\")\n",
    "test_case.assertEqual(_result[97], 97, msg=\"The value at 97 should be 97 (integer, not string).\")\n",
    "\n",
    "\n",
    "print(\"\\n\\033[37;42;2m  Success! Your code works as intended.  \\033[0m\\n\")"
   ]
  },
  {
   "cell_type": "markdown",
   "metadata": {
    "id": "Mp3N7WR__Ucm"
   },
   "source": [
    "---\n",
    "## Task 3: Removing duplicate elements.\n",
    "\n",
    "Define the function `unique_elements` that takes exactly one required parameter `elements`. You can assume that the input is always a list with at least 1 entry.\n",
    "It must return a `list` that is sorted (based on the default sorting method) but it must contain only *unique* elements, meaning **no** duplicates from the parameter `elements`.\n",
    "\n",
    "\n",
    "_Hint: Do **not** give any variable the name 'list'. Doing so will break your kernel/runtime._\n",
    "\n",
    "_Hint: Don't overcomplicate the list iterations, **look for built-in functions** that can remove duplicates and sort lists. (The main solution may be as short as 1 line.)_\n",
    "\n",
    "BONUS: When done with the soltion, you may relax the assumption that the input list contains at least 1 entry. If the list was empty, you may raise a **_ValueError_ instead and abort the program execution**. You need to find out, how to raise errors."
   ]
  },
  {
   "cell_type": "code",
   "execution_count": 10,
   "metadata": {
    "executionInfo": {
     "elapsed": 228,
     "status": "ok",
     "timestamp": 1632322524515,
     "user": {
      "displayName": "Bernhard Bermeitinger",
      "photoUrl": "https://lh3.googleusercontent.com/a-/AOh14GivXxt0TLtU4UXyER4_cY1H5s03j1oHP80xcb4=s64",
      "userId": "00323182743818884824"
     },
     "user_tz": -120
    },
    "id": "6MAmX2-MAKCh"
   },
   "outputs": [],
   "source": [
    "def unique_elements(elements):\n",
    "    return sorted(set(elements))\n",
    "    "
   ]
  },
  {
   "cell_type": "code",
   "execution_count": 11,
   "metadata": {
    "colab": {
     "base_uri": "https://localhost:8080/"
    },
    "executionInfo": {
     "elapsed": 231,
     "status": "ok",
     "timestamp": 1632322598601,
     "user": {
      "displayName": "Bernhard Bermeitinger",
      "photoUrl": "https://lh3.googleusercontent.com/a-/AOh14GivXxt0TLtU4UXyER4_cY1H5s03j1oHP80xcb4=s64",
      "userId": "00323182743818884824"
     },
     "user_tz": -120
    },
    "id": "vh6r6MlVARKh",
    "outputId": "9698507c-3f0f-4960-8f83-e5eeae417d35"
   },
   "outputs": [
    {
     "name": "stdout",
     "output_type": "stream",
     "text": [
      "\n",
      "\u001b[37;42;2m  Success! Your code works as intended.  \u001b[0m\n",
      "\n"
     ]
    }
   ],
   "source": [
    "# Test Cell. Do not modify.\n",
    "from inspect import isfunction, signature, _empty\n",
    "from unittest import TestCase\n",
    "test_case = TestCase()\n",
    "\n",
    "# Sanity check\n",
    "test_case.assertTrue('unique_elements' in locals(), msg=\"You must name the function 'unique_elements'.\")\n",
    "test_case.assertTrue(isfunction(unique_elements), msg=\"You must define 'unique_elements' as a function.\")\n",
    "\n",
    "# Parameter Check\n",
    "test_case.assertEqual(['elements'], list(signature(unique_elements).parameters), msg=\"The function 'unique_elements' must have exactly one parameter called 'elements'.\")\n",
    "test_case.assertEqual(_empty, signature(unique_elements).parameters['elements'].default, msg=\"The parameter 'elements' of the function 'unique_elements' must not have a default value.'\")\n",
    "\n",
    "# Type Check\n",
    "test_case.assertIsInstance(unique_elements(['test']), list, msg=\"The return value must be of type 'list'\")\n",
    "\n",
    "# Functionality Check\n",
    "test_case.assertEqual([1, 2, 3, 4], unique_elements([1, 4, 3, 2]))\n",
    "test_case.assertEqual([1], unique_elements([1, 1, 1, 1, 1, 1]))\n",
    "test_case.assertEqual(['Bizz', 'Buzz', 'Fizz', 'Fuzz'], unique_elements(['Fizz', 'Bizz', 'Fuzz', 'Buzz', 'Fizz']), msg=\"The returned list is not the expected one. Did you sort the list?\")\n",
    "\n",
    "\n",
    "print(\"\\n\\033[37;42;2m  Success! Your code works as intended.  \\033[0m\\n\")"
   ]
  },
  {
   "cell_type": "markdown",
   "metadata": {
    "id": "OGDYrbFwAZQw"
   },
   "source": [
    "---\n",
    "## Task 4: Extracting the last string of a list\n",
    "\n",
    "Define the function `get_last_string` that takes one required parameter with the name `elements`. It must return the endmost string (type `str`) of the given parameter `elements`. You can assume that `elements` will always be a list of at least 1 entry and there will always be at least one string in the list.\n",
    "\n",
    "Example:\n",
    "```python\n",
    "print(get_last_string([1, \"voila\", 3]))\n",
    ">>> voila\n",
    "print(get_last_string([1, 'bla', 'bla', 4, 'new']))\n",
    ">>> new\n",
    "```\n",
    "\n",
    "\n",
    "_Hint: Do **not** call any variable 'list'. Doing so will break your kernel/runtime._\n",
    "\n",
    "_Hint: Do type comparisons with `isinstance()`_\n",
    "\n",
    "_Hint: Don't overcomplicate the list iterations, look for built-in functions that reverse lists._"
   ]
  },
  {
   "cell_type": "code",
   "execution_count": 15,
   "metadata": {},
   "outputs": [],
   "source": [
    "def get_last_string(elements):\n",
    "    for value in reversed(elements):\n",
    "        if isinstance(value,str):\n",
    "            return value"
   ]
  },
  {
   "cell_type": "code",
   "execution_count": 16,
   "metadata": {},
   "outputs": [
    {
     "name": "stdout",
     "output_type": "stream",
     "text": [
      "\n",
      "\u001b[37;42;2m  Success! Your code works as intended.  \u001b[0m\n",
      "\n"
     ]
    }
   ],
   "source": [
    "# Test Cell. Do not modify.\n",
    "from inspect import isfunction, signature, _empty\n",
    "from unittest import TestCase\n",
    "test_case = TestCase()\n",
    "\n",
    "# Sanity check\n",
    "test_case.assertTrue('get_last_string' in locals(), msg=\"You must name the function 'get_last_string'.\")\n",
    "test_case.assertTrue(isfunction(get_last_string), msg=\"You must define 'get_last_string' as a function.\")\n",
    "\n",
    "# Parameter Check\n",
    "test_case.assertEqual(['elements'], list(signature(get_last_string).parameters), msg=\"The function 'get_last_string' must have exactly one parameter called 'elements'.\")\n",
    "test_case.assertEqual(_empty, signature(get_last_string).parameters['elements'].default, msg=\"The parameter 'elements' of the function 'get_last_string' must not have a default value.'\")\n",
    "\n",
    "# Type Check\n",
    "test_case.assertIsInstance(get_last_string([\"one\"]), str, msg=\"The return value must be of type 'str'.\")\n",
    "\n",
    "# Functionality Check\n",
    "test_case.assertEqual(\"voila\", get_last_string([1, 4, 3, 2, \"voila\"]))\n",
    "test_case.assertEqual(\"voilb\", get_last_string([1, \"voila\", \"voilb\", 1, 1, 1, 1]))\n",
    "test_case.assertEqual(\"Fizz\", get_last_string([4, 'Fizz', 'Bizz', 'Fuzz', 7, 'Buzz', 'Fizz', 7]), msg=\"The returned list is not the expected one. Did you sort the list?\")\n",
    "\n",
    "\n",
    "print(\"\\n\\033[37;42;2m  Success! Your code works as intended.  \\033[0m\\n\")"
   ]
  },
  {
   "cell_type": "markdown",
   "metadata": {},
   "source": [
    "---\n",
    "## Task 5: Tuples\n",
    "\n",
    "Define the function `get_elements` that takes two parameters: the required parameter `elements`, which will contain a list of tuples. The second parameter must have the name `index` and because it must be optional set a default value of `0`.\n",
    "\n",
    "The function must return a list that contains those elements out of the tuples of `elements` that are at the given position from the parameter `index`. You can assume that the given tuples always have a valid length.\n",
    "\n",
    "Example:\n",
    "```python\n",
    "print(get_elements([('a', 'b'), ('c', 'd'), ('e', 'f')]))\n",
    ">>> ['a', 'c', 'e']\n",
    "print(get_elements([('a', 'b'), ('c', 'd'), ('e', 'f')], index=0))\n",
    ">>> ['a', 'c', 'e']\n",
    "print(get_elements([('a', 'b'), ('c', 'd'), ('e', 'f')], index=1))\n",
    ">>> ['b', 'd', 'f']\n",
    "```\n",
    "\n",
    "_Hint: Do **not** call any variable 'list' or 'tuple'. Doing so will break your kernel/runtime._"
   ]
  },
  {
   "cell_type": "code",
   "execution_count": 21,
   "metadata": {},
   "outputs": [],
   "source": [
    "def get_elements(elements,index=0):\n",
    "    result = []\n",
    "    for tpl in elements:\n",
    "        result.append(tpl[index])\n",
    "    return result"
   ]
  },
  {
   "cell_type": "code",
   "execution_count": 24,
   "metadata": {},
   "outputs": [
    {
     "name": "stdout",
     "output_type": "stream",
     "text": [
      "['a', 'c', 'e']\n"
     ]
    }
   ],
   "source": [
    "x = [('a', 'b'), ('c', 'd'), ('e', 'f')]\n",
    "\n",
    "result = []\n",
    "for i in x:\n",
    "    result.append(i[0])\n",
    "print(result)"
   ]
  },
  {
   "cell_type": "code",
   "execution_count": 22,
   "metadata": {},
   "outputs": [
    {
     "name": "stdout",
     "output_type": "stream",
     "text": [
      "\n",
      "\u001b[37;42;2m  Success! Your code works as intended.  \u001b[0m\n",
      "\n"
     ]
    }
   ],
   "source": [
    "# Test Cell. Do not modify.\n",
    "from inspect import isfunction, signature, _empty\n",
    "from unittest import TestCase\n",
    "test_case = TestCase()\n",
    "\n",
    "# Sanity check\n",
    "test_case.assertTrue('get_elements' in locals(), msg=\"You must name the function 'get_elements'.\")\n",
    "test_case.assertTrue(isfunction(get_elements), msg=\"You must define 'get_elements' as a function.\")\n",
    "\n",
    "# Parameter Check\n",
    "test_case.assertEqual(['elements', 'index'], list(signature(get_elements).parameters), msg=\"The function 'get_elements' must have exactly two parameters.\")\n",
    "test_case.assertEqual(_empty, signature(get_elements).parameters['elements'].default, msg=\"The parameter 'elements' of the function 'get_elements' must not have a default value.\")\n",
    "test_case.assertEqual(0, signature(get_elements).parameters['index'].default, msg=\"The parameter 'index' of the function 'get_elements' must have the default value 0.\")\n",
    "\n",
    "# Functionality Check\n",
    "test_case.assertEqual(\n",
    "    ['a', 'c', 'e'],\n",
    "    get_elements([('a', 'b'), ('c', 'd'), ('e', 'f')])\n",
    ")\n",
    "test_case.assertEqual(\n",
    "    ['a', 'c', 'e'],\n",
    "    get_elements([('a', 'b'), ('c', 'd'), ('e', 'f')], index=0)\n",
    ")\n",
    "test_case.assertEqual(\n",
    "    ['b', 'd', 'f'],\n",
    "    get_elements([('a', 'b'), ('c', 'd'), ('e', 'f')], index=1)\n",
    ")\n",
    "test_case.assertEqual(\n",
    "    [8, '42', '3b'],\n",
    "    get_elements([(1, 4, 8), ('c', 'd', '42', 21), (4, '23', '3b')], index=2)\n",
    ")\n",
    "\n",
    "\n",
    "print(\"\\n\\033[37;42;2m  Success! Your code works as intended.  \\033[0m\\n\")"
   ]
  },
  {
   "cell_type": "code",
   "execution_count": null,
   "metadata": {},
   "outputs": [],
   "source": []
  }
 ],
 "metadata": {
  "colab": {
   "collapsed_sections": [],
   "name": "Assignment_02_Solution.ipynb",
   "provenance": []
  },
  "copyright": {
   "author": "Bernhard Bermeitinger",
   "email": "bernhard.bermeitinger@unisg.ch"
  },
  "kernelspec": {
   "display_name": "Python 3 (ipykernel)",
   "language": "python",
   "name": "python3"
  },
  "language_info": {
   "codemirror_mode": {
    "name": "ipython",
    "version": 3
   },
   "file_extension": ".py",
   "mimetype": "text/x-python",
   "name": "python",
   "nbconvert_exporter": "python",
   "pygments_lexer": "ipython3",
   "version": "3.11.5"
  },
  "toc-autonumbering": false,
  "toc-showcode": false
 },
 "nbformat": 4,
 "nbformat_minor": 4
}
